{
  "nbformat": 4,
  "nbformat_minor": 0,
  "metadata": {
    "colab": {
      "provenance": [],
      "authorship_tag": "ABX9TyNz/BNFZvZXd3PPROobR5a6",
      "include_colab_link": true
    },
    "kernelspec": {
      "name": "python3",
      "display_name": "Python 3"
    },
    "language_info": {
      "name": "python"
    }
  },
  "cells": [
    {
      "cell_type": "markdown",
      "metadata": {
        "id": "view-in-github",
        "colab_type": "text"
      },
      "source": [
        "<a href=\"https://colab.research.google.com/github/Ashwitharavula/aiml/blob/main/Untitled0.ipynb\" target=\"_parent\"><img src=\"https://colab.research.google.com/assets/colab-badge.svg\" alt=\"Open In Colab\"/></a>"
      ]
    },
    {
      "cell_type": "code",
      "source": [
        "import numpy as np\n",
        "a=['ashu','deepa','palomi','anjali']\n",
        "print(a)\n",
        "print(a[2])\n",
        "a.append('shushu')\n",
        "print(a)\n",
        "a[2] = 'chinnu'\n",
        "print(a)\n",
        "print(type(a))\n",
        "print(len(a))"
      ],
      "metadata": {
        "colab": {
          "base_uri": "https://localhost:8080/"
        },
        "id": "AVdIz1TGtsJk",
        "outputId": "a5ccd4bc-7b22-4678-f04b-2298011d53f7"
      },
      "execution_count": 37,
      "outputs": [
        {
          "output_type": "stream",
          "name": "stdout",
          "text": [
            "['ashu', 'deepa', 'palomi', 'anjali']\n",
            "palomi\n",
            "['ashu', 'deepa', 'palomi', 'anjali', 'shushu']\n",
            "['ashu', 'deepa', 'chinnu', 'anjali', 'shushu']\n",
            "<class 'list'>\n",
            "5\n"
          ]
        }
      ]
    },
    {
      "cell_type": "code",
      "source": [
        "import numpy as np\n",
        "num_array=np.array([1,2,3,4,5])\n",
        "print(num_array)\n",
        "print(type(num_array))"
      ],
      "metadata": {
        "colab": {
          "base_uri": "https://localhost:8080/"
        },
        "id": "WwO8_DgcwEWI",
        "outputId": "517d6f6e-b0ef-467f-cec8-674cc874e130"
      },
      "execution_count": 35,
      "outputs": [
        {
          "output_type": "stream",
          "name": "stdout",
          "text": [
            "[1 2 3 4 5]\n",
            "<class 'numpy.ndarray'>\n"
          ]
        }
      ]
    },
    {
      "cell_type": "code",
      "execution_count": 38,
      "metadata": {
        "colab": {
          "base_uri": "https://localhost:8080/"
        },
        "id": "BAQfplnej3Cj",
        "outputId": "605c15ab-8a48-413e-907f-ddfba109d58f"
      },
      "outputs": [
        {
          "output_type": "stream",
          "name": "stdout",
          "text": [
            "[1 2 3 4]\n",
            "<class 'numpy.ndarray'>\n"
          ]
        }
      ],
      "source": [
        "\n",
        "import numpy as np\n",
        "num=np.array([1,2,3,4])\n",
        "print(num)\n",
        "print(type(num))"
      ]
    },
    {
      "cell_type": "code",
      "source": [
        "import numpy as np\n",
        "array1=np.array([1,2,3,4])\n",
        "array2=np.array([5,6,7,8])\n",
        "print(array1*array2)\n",
        "print(array1/array2)\n",
        "print(np.power(array1,2))"
      ],
      "metadata": {
        "colab": {
          "base_uri": "https://localhost:8080/"
        },
        "id": "WNfDLn12y4Sc",
        "outputId": "5c210509-71fb-4123-d485-60e669115f58"
      },
      "execution_count": 50,
      "outputs": [
        {
          "output_type": "stream",
          "name": "stdout",
          "text": [
            "[ 5 12 21 32]\n",
            "[0.2        0.33333333 0.42857143 0.5       ]\n",
            "[ 1  4  9 16]\n"
          ]
        }
      ]
    },
    {
      "cell_type": "code",
      "source": [
        "import numpy as np\n",
        "array1=np.array([1,2,3,4])\n",
        "array2=np.array([5,6,7,8])\n",
        "print(\"addition of two numbers:\",array1+array2)"
      ],
      "metadata": {
        "colab": {
          "base_uri": "https://localhost:8080/"
        },
        "id": "YXjGeTaZ0PJi",
        "outputId": "3ef219f5-f6a8-41ff-c000-4b7abd9ccc41"
      },
      "execution_count": 47,
      "outputs": [
        {
          "output_type": "stream",
          "name": "stdout",
          "text": [
            "addition of two numbers: [ 6  8 10 12]\n"
          ]
        }
      ]
    },
    {
      "cell_type": "code",
      "source": [
        "import numpy as np\n",
        "my_array=([1,2,3,4])\n",
        "sin=np.sin(my_array)\n",
        "print(sin)\n",
        "log=np.log(my_array)\n",
        "print(log)\n",
        "log2=np.log2(my_array)\n",
        "print(log2)\n",
        "exp=np.exp(my_array)\n",
        "print(exp)\n"
      ],
      "metadata": {
        "colab": {
          "base_uri": "https://localhost:8080/"
        },
        "id": "tobQDn6O1P9b",
        "outputId": "749b1a69-d245-47de-b994-cec6e8dded21"
      },
      "execution_count": 48,
      "outputs": [
        {
          "output_type": "stream",
          "name": "stdout",
          "text": [
            "[ 0.84147098  0.90929743  0.14112001 -0.7568025 ]\n",
            "[0.         0.69314718 1.09861229 1.38629436]\n",
            "[0.        1.        1.5849625 2.       ]\n",
            "[ 2.71828183  7.3890561  20.08553692 54.59815003]\n",
            "[ 1  4  9 16]\n"
          ]
        }
      ]
    }
  ]
}
